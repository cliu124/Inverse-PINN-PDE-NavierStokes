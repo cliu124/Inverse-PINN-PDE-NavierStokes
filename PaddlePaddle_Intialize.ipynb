{
  "nbformat": 4,
  "nbformat_minor": 0,
  "metadata": {
    "colab": {
      "provenance": []
    },
    "kernelspec": {
      "name": "python3",
      "display_name": "Python 3"
    },
    "language_info": {
      "name": "python"
    }
  },
  "cells": [
    {
      "cell_type": "code",
      "execution_count": null,
      "metadata": {
        "id": "7-2HhaeD6kyL"
      },
      "outputs": [],
      "source": [
        "import os\n",
        "os.environ[\"DEEPCONFIG_DEFAULT_BACKEND\"] = \"paddle\"\n",
        "\n",
        "import deepxde as dde\n",
        "import paddle\n",
        "paddle.set_device('cpu')\n"
      ]
    }
  ]
}