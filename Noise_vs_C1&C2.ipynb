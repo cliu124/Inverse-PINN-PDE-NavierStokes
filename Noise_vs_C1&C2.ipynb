import numpy as np
import os
import sys
import pandas as pd
import matplotlib.pyplot as plt
from scipy.io import loadmat
from scipy.interpolate import griddata
from scipy.signal import savgol_filter

# ====================== FILE HANDLING ======================
ORIGINAL_PATH    = r'C:\Users\sauja\Downloads\cylinder_nektar_wake.mat'
CURRENT_DIR_PATH = 'cylinder_nektar_wake.mat'

if os.path.exists(ORIGINAL_PATH):
    MAT_PATH = ORIGINAL_PATH
elif os.path.exists(CURRENT_DIR_PATH):
    MAT_PATH = CURRENT_DIR_PATH
else:
    print("ERROR: Data file not found.")
    sys.exit(1)

OUTPUT_DIR = 'parameter_results'
os.makedirs(OUTPUT_DIR, exist_ok=True)

# ====================== DATA LOADING ======================
data   = loadmat(MAT_PATH)
X_star = data['X_star']        # (N,2)
U_star = data['U_star']        # (N,2,NT)
p_star = data['p_star']        # (N,NT)
t_all  = data['t'].flatten()   # (NT,)

x, y = X_star[:,0], X_star[:,1]
NT   = len(t_all)
dt   = t_all[1] - t_all[0]
print(f"Loaded {NT} snapshots, dt = {dt:.4f}")

# ====================== TIME DERIVATIVES ======================
# pick t≈1.0 and compute ut, vt by central/fallback difference
target_t = 1.0
t_idx    = np.argmin(np.abs(t_all - target_t))
if 0 < t_idx < NT-1:
    u_prev, u_next = U_star[:,0,t_idx-1], U_star[:,0,t_idx+1]
    v_prev, v_next = U_star[:,1,t_idx-1], U_star[:,1,t_idx+1]
    ut_data = (u_next - u_prev) / (2*dt)
    vt_data = (v_next - v_prev) / (2*dt)
else:
    u_mid, v_mid = U_star[:,0,t_idx], U_star[:,1,t_idx]
    if t_idx == 0:
        u_next, v_next = U_star[:,0,1], U_star[:,1,1]
        ut_data = (u_next - u_mid) / dt
        vt_data = (v_next - v_mid) / dt
    else:
        u_prev, v_prev = U_star[:,0,-2], U_star[:,1,-2]
        ut_data = (u_mid - u_prev) / dt
        vt_data = (v_mid - v_prev) / dt

u_data = U_star[:,0,t_idx]
v_data = U_star[:,1,t_idx]
p_data = p_star[:,t_idx]

# ====================== PARAMETER ESTIMATION ======================
def estimate_C1_C2(x, y, u, v, p, ut, vt, noise_level):
    """
    Solve ut + C1*(u ux+v uy) + C2*Δu = -px
          vt + C1*(u vx+v vy) + C2*Δv = -py
    via least squares, adding Gaussian noise to u,v,ut,vt.
    """
    # 1) add noise
    sigma_u  = np.std(u)
    sigma_v  = np.std(v)
    u_noisy  = u  + noise_level*sigma_u*np.random.randn(*u.shape)
    v_noisy  = v  + noise_level*sigma_v*np.random.randn(*v.shape)
    ut_noisy = ut + noise_level*sigma_u*np.random.randn(*ut.shape)
    vt_noisy = vt + noise_level*sigma_v*np.random.randn(*vt.shape)
    p_clean  = p  # keep p noiseless

    # 2) interpolate onto grid
    grid_size = 100
    xg = np.linspace(x.min(), x.max(), grid_size)
    yg = np.linspace(y.min(), y.max(), grid_size)
    Xg, Yg = np.meshgrid(xg, yg)

    def to_grid(f):
        Z = griddata((x,y), f, (Xg,Yg), method='linear')
        Z[(Xg**2 + Yg**2) < 0.25] = np.nan
        return Z

    Zu, Zv, Zp = to_grid(u_noisy), to_grid(v_noisy), to_grid(p_clean)
    Zut, Zvt   = to_grid(ut_noisy), to_grid(vt_noisy)

    # 3) smooth
    try:
        win = min(15, (grid_size//2//2)*2 + 1)
        Zu  = savgol_filter(Zu,  win, 3)
        Zv  = savgol_filter(Zv,  win, 3)
        Zp  = savgol_filter(Zp,  win, 3)
        Zut = savgol_filter(Zut, win, 3)
        Zvt = savgol_filter(Zvt, win, 3)
    except ValueError:
        pass

    # 4) derivatives (dy, dx ordering)
    dx, dy = xg[1]-xg[0], yg[1]-yg[0]
    dudy, dudx = np.gradient(Zu,  dy, dx)
    dvdy, dvdx = np.gradient(Zv,  dy, dx)
    dpdy, dpdx = np.gradient(Zp,  dy, dx)

    d2udx2 = np.gradient(dudx, dx, axis=1)
    d2udy2 = np.gradient(dudy, dy, axis=0)
    d2vdx2 = np.gradient(dvdx, dx, axis=1)
    d2vdy2 = np.gradient(dvdy, dy, axis=0)

    # 5) build LSQ rows where valid
    mask     = ~np.isnan(Zu)
    u_f, v_f = Zu[mask], Zv[mask]
    ut_f, vt_f = Zut[mask], Zvt[mask]
    px_f, py_f = dpdx[mask], dpdy[mask]

    conv_u = u_f*dudx[mask] + v_f*dudy[mask]
    diff_u = d2udx2[mask] + d2udy2[mask]
    conv_v = u_f*dvdx[mask] + v_f*dvdy[mask]
    diff_v = d2vdx2[mask] + d2vdy2[mask]

    A = np.vstack([
        np.column_stack([  conv_u, -diff_u]),
        np.column_stack([  conv_v, -diff_v])
    ])
    b = np.hstack([-px_f - ut_f, -py_f - vt_f])

    # 6) small reg toward (1,0.01)
    A_aug = np.vstack([A, [[1,0],[0,1]]])
    b_aug = np.hstack([b, [1.0, 0.01]])

    C1, C2 = np.linalg.lstsq(A_aug, b_aug, rcond=None)[0]
    return C1, C2

# ====================== RUN EXPERIMENTS ======================
noise_levels = [0.0, 0.01, 0.05, 0.1, 0.2]
trials      = 5
rows        = []

for η in noise_levels:
    C1s, C2s = [], []
    for _ in range(trials):
        c1, c2 = estimate_C1_C2(
            x, y, 
            u_data, v_data, p_data,
            ut_data, vt_data,
            η
        )
        C1s.append(c1)
        C2s.append(c2)

    rows.append({
        'Noise Level': f"{η*100:.1f}%",
        'C1 Mean':     np.mean(C1s),
        'C1 Std':      np.std(C1s),
        'C2 Mean':     np.mean(C2s),
        'C2 Std':      np.std(C2s),
    })
    print(
        f"Done noise={η*100:.1f}% " 
        f"→ C1={rows[-1]['C1 Mean']:.3f}, "
        f"C2={rows[-1]['C2 Mean']:.3f}"
    )

# ====================== ZERO-NOISE WARNING ======================
c1_0 = rows[0]['C1 Mean']
c2_0 = rows[0]['C2 Mean']
if not np.isclose(c1_0, 1.0, atol=5e-3) or not np.isclose(c2_0, 0.01, atol=5e-4):
    print(f"  No-noise drift: C1={c1_0:.5f}, C2={c2_0:.5f}")

# ====================== OUTPUT TABLE ======================
df = pd.DataFrame(rows)
print("\nRESULTS")
print(df.to_string(index=False, float_format=lambda x: f"{x:.5f}"))

# Save CSV
csvp = os.path.join(OUTPUT_DIR, 'parameter_results.csv')
df.to_csv(csvp, index=False)

# Save table image
fig, ax = plt.subplots(figsize=(10,4))
ax.axis('off')
tbl = ax.table(
    cellText=df.round(5).values,
    colLabels=df.columns,
    loc='center',
    cellLoc='center'
)
tbl.auto_set_font_size(False)
tbl.set_fontsize(12)
tbl.scale(1,1.5)
for (r,c), cell in tbl.get_celld().items():
    cell.set_edgecolor('#CCC')
    if r == 0:
        cell.set_facecolor('#40466e')
        cell.set_text_props(color='white', weight='bold')
    else:
        cell.set_facecolor('#F5F5F5' if r%2 else 'white')
plt.title('Parameter Estimation vs Noise\n(True: C1≈1.0, C2≈0.01)', pad=12)
plt.tight_layout()
fig.savefig(os.path.join(OUTPUT_DIR,'noise_table.png'), dpi=300)

print(f"\nDone. Table saved to {OUTPUT_DIR}/noise_table.png")
